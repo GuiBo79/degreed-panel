{
 "cells": [
  {
   "cell_type": "markdown",
   "metadata": {},
   "source": [
    "## 1.Degreed Users Group Creation App"
   ]
  },
  {
   "cell_type": "code",
   "execution_count": 1,
   "metadata": {},
   "outputs": [],
   "source": [
    "import pandas as pd\n",
    "from datetime import date"
   ]
  },
  {
   "cell_type": "code",
   "execution_count": 2,
   "metadata": {},
   "outputs": [],
   "source": [
    "data = pd.read_excel (r'C:\\Users\\guibo\\OneDrive\\Área de Trabalho\\Degreed\\User_file template_TIC.xlsx', sheet_name='User List')\n",
    "rules = pd.read_excel (r'C:\\Users\\guibo\\OneDrive\\Área de Trabalho\\Degreed\\BusinessRules Template_TIC.xlsx', sheet_name='Business Rules')\n"
   ]
  },
  {
   "cell_type": "markdown",
   "metadata": {},
   "source": [
    "## 2.Visualising User Data "
   ]
  },
  {
   "cell_type": "code",
   "execution_count": 3,
   "metadata": {},
   "outputs": [
    {
     "data": {
      "text/html": [
       "<div>\n",
       "<style scoped>\n",
       "    .dataframe tbody tr th:only-of-type {\n",
       "        vertical-align: middle;\n",
       "    }\n",
       "\n",
       "    .dataframe tbody tr th {\n",
       "        vertical-align: top;\n",
       "    }\n",
       "\n",
       "    .dataframe thead th {\n",
       "        text-align: right;\n",
       "    }\n",
       "</style>\n",
       "<table border=\"1\" class=\"dataframe\">\n",
       "  <thead>\n",
       "    <tr style=\"text-align: right;\">\n",
       "      <th></th>\n",
       "      <th>UniqueID</th>\n",
       "      <th>FullName</th>\n",
       "      <th>FirstName</th>\n",
       "      <th>LastName</th>\n",
       "      <th>Email</th>\n",
       "      <th>ManagerUniqueID</th>\n",
       "      <th>Delete</th>\n",
       "      <th>Department</th>\n",
       "      <th>Hire Date</th>\n",
       "      <th>Office Location</th>\n",
       "      <th>Business Unit</th>\n",
       "      <th>People Manager</th>\n",
       "    </tr>\n",
       "  </thead>\n",
       "  <tbody>\n",
       "    <tr>\n",
       "      <th>0</th>\n",
       "      <td>173657</td>\n",
       "      <td>Kim Blank</td>\n",
       "      <td>Kim</td>\n",
       "      <td>Blank</td>\n",
       "      <td>kim.blank@Acme.com</td>\n",
       "      <td>11034</td>\n",
       "      <td>N</td>\n",
       "      <td>Procurement</td>\n",
       "      <td>2004-12-01</td>\n",
       "      <td>Beijing, China</td>\n",
       "      <td>Finance</td>\n",
       "      <td>Y</td>\n",
       "    </tr>\n",
       "    <tr>\n",
       "      <th>1</th>\n",
       "      <td>173658</td>\n",
       "      <td>Jeff Shilling</td>\n",
       "      <td>Jeff</td>\n",
       "      <td>Shilling</td>\n",
       "      <td>jeff.shilling@acme.com</td>\n",
       "      <td>11587</td>\n",
       "      <td>N</td>\n",
       "      <td>Lead Sourcing</td>\n",
       "      <td>2010-01-08</td>\n",
       "      <td>London, UK</td>\n",
       "      <td>Sales</td>\n",
       "      <td>Y</td>\n",
       "    </tr>\n",
       "    <tr>\n",
       "      <th>2</th>\n",
       "      <td>173659</td>\n",
       "      <td>Nancy Barnes</td>\n",
       "      <td>Nancy</td>\n",
       "      <td>Barnes</td>\n",
       "      <td>nancy.barnes@acme.com</td>\n",
       "      <td>10426</td>\n",
       "      <td>N</td>\n",
       "      <td>Supply Chain</td>\n",
       "      <td>2019-06-01</td>\n",
       "      <td>Tokyo, Japan</td>\n",
       "      <td>Production</td>\n",
       "      <td>N</td>\n",
       "    </tr>\n",
       "    <tr>\n",
       "      <th>3</th>\n",
       "      <td>173660</td>\n",
       "      <td>Hank Edwards</td>\n",
       "      <td>Hank</td>\n",
       "      <td>Edwards</td>\n",
       "      <td>hank.edwards@acme.com</td>\n",
       "      <td>10033</td>\n",
       "      <td>N</td>\n",
       "      <td>Talent Acquisition</td>\n",
       "      <td>2003-03-05</td>\n",
       "      <td>Sao Paulo, Brazil</td>\n",
       "      <td>HR</td>\n",
       "      <td>N</td>\n",
       "    </tr>\n",
       "    <tr>\n",
       "      <th>4</th>\n",
       "      <td>173661</td>\n",
       "      <td>Amy Cuth</td>\n",
       "      <td>Amy</td>\n",
       "      <td>Cuth</td>\n",
       "      <td>amy.cuth@acme.com</td>\n",
       "      <td>14422</td>\n",
       "      <td>N</td>\n",
       "      <td>Digital</td>\n",
       "      <td>2018-05-05</td>\n",
       "      <td>Mexico City, Mexico</td>\n",
       "      <td>Marketing</td>\n",
       "      <td>Y</td>\n",
       "    </tr>\n",
       "    <tr>\n",
       "      <th>5</th>\n",
       "      <td>173662</td>\n",
       "      <td>Jaylan Walter</td>\n",
       "      <td>Jaylan</td>\n",
       "      <td>Walter</td>\n",
       "      <td>jaylan.walter@acme.com</td>\n",
       "      <td>12256</td>\n",
       "      <td>N</td>\n",
       "      <td>FP &amp;A</td>\n",
       "      <td>2019-06-01</td>\n",
       "      <td>New York, NY</td>\n",
       "      <td>Finance</td>\n",
       "      <td>N</td>\n",
       "    </tr>\n",
       "    <tr>\n",
       "      <th>6</th>\n",
       "      <td>172663</td>\n",
       "      <td>Nora Harrell</td>\n",
       "      <td>Nora</td>\n",
       "      <td>Harrell</td>\n",
       "      <td>nora.harrell@acme.com</td>\n",
       "      <td>54956</td>\n",
       "      <td>N</td>\n",
       "      <td>Field</td>\n",
       "      <td>2016-02-01</td>\n",
       "      <td>Toronto, Canada</td>\n",
       "      <td>Sales</td>\n",
       "      <td>Y</td>\n",
       "    </tr>\n",
       "    <tr>\n",
       "      <th>7</th>\n",
       "      <td>173664</td>\n",
       "      <td>Carlos McCann</td>\n",
       "      <td>Carlos</td>\n",
       "      <td>McCann</td>\n",
       "      <td>carlos.mccann@acme.com</td>\n",
       "      <td>98122</td>\n",
       "      <td>N</td>\n",
       "      <td>Learning &amp; Development</td>\n",
       "      <td>2018-10-02</td>\n",
       "      <td>Bangalore, India</td>\n",
       "      <td>HR</td>\n",
       "      <td>Y</td>\n",
       "    </tr>\n",
       "    <tr>\n",
       "      <th>8</th>\n",
       "      <td>173665</td>\n",
       "      <td>Kailee Johnson</td>\n",
       "      <td>Kailee</td>\n",
       "      <td>Johnson</td>\n",
       "      <td>kailee.johnson@acme.com</td>\n",
       "      <td>98118</td>\n",
       "      <td>N</td>\n",
       "      <td>Supply Chain</td>\n",
       "      <td>2003-12-01</td>\n",
       "      <td>Los Angeles, CA</td>\n",
       "      <td>Production</td>\n",
       "      <td>N</td>\n",
       "    </tr>\n",
       "    <tr>\n",
       "      <th>9</th>\n",
       "      <td>173666</td>\n",
       "      <td>Mathias Villegas</td>\n",
       "      <td>Mathias</td>\n",
       "      <td>Villegas</td>\n",
       "      <td>mathias.villegas@acme.com</td>\n",
       "      <td>11053</td>\n",
       "      <td>N</td>\n",
       "      <td>Digital</td>\n",
       "      <td>2003-12-01</td>\n",
       "      <td>Chicago, IL</td>\n",
       "      <td>Marketing</td>\n",
       "      <td>N</td>\n",
       "    </tr>\n",
       "    <tr>\n",
       "      <th>10</th>\n",
       "      <td>173667</td>\n",
       "      <td>Mylie Carey</td>\n",
       "      <td>Mylie</td>\n",
       "      <td>Carey</td>\n",
       "      <td>mylie.carey@acme.com</td>\n",
       "      <td>11674</td>\n",
       "      <td>N</td>\n",
       "      <td>Procurement</td>\n",
       "      <td>2018-07-01</td>\n",
       "      <td>Buenos Aires, Argentina</td>\n",
       "      <td>Finance</td>\n",
       "      <td>N</td>\n",
       "    </tr>\n",
       "    <tr>\n",
       "      <th>11</th>\n",
       "      <td>173668</td>\n",
       "      <td>Diego Duffy</td>\n",
       "      <td>Diego</td>\n",
       "      <td>Duffy</td>\n",
       "      <td>diego.duffy@acme.com</td>\n",
       "      <td>11987</td>\n",
       "      <td>N</td>\n",
       "      <td>Field</td>\n",
       "      <td>2018-10-01</td>\n",
       "      <td>Mexico City, Mexico</td>\n",
       "      <td>Sales</td>\n",
       "      <td>N</td>\n",
       "    </tr>\n",
       "    <tr>\n",
       "      <th>12</th>\n",
       "      <td>173669</td>\n",
       "      <td>Fatime Guerra</td>\n",
       "      <td>Fatima</td>\n",
       "      <td>Guerra</td>\n",
       "      <td>fatima.guerra@acme.com</td>\n",
       "      <td>11524</td>\n",
       "      <td>N</td>\n",
       "      <td>QA</td>\n",
       "      <td>2015-04-02</td>\n",
       "      <td>Sao Paulo, Brazil</td>\n",
       "      <td>Production</td>\n",
       "      <td>Y</td>\n",
       "    </tr>\n",
       "    <tr>\n",
       "      <th>13</th>\n",
       "      <td>173770</td>\n",
       "      <td>Joseph Osborn</td>\n",
       "      <td>Joseph</td>\n",
       "      <td>Osborn</td>\n",
       "      <td>joseph.osborn@acme.com</td>\n",
       "      <td>11999</td>\n",
       "      <td>N</td>\n",
       "      <td>Talent Acquisition</td>\n",
       "      <td>2004-12-01</td>\n",
       "      <td>New York, NY</td>\n",
       "      <td>HR</td>\n",
       "      <td>Y</td>\n",
       "    </tr>\n",
       "    <tr>\n",
       "      <th>14</th>\n",
       "      <td>173771</td>\n",
       "      <td>Nora Sanchez</td>\n",
       "      <td>Nora</td>\n",
       "      <td>Sanchez</td>\n",
       "      <td>nora.sanchez@acme.com</td>\n",
       "      <td>11888</td>\n",
       "      <td>N</td>\n",
       "      <td>Partnerships &amp; Alliances</td>\n",
       "      <td>2010-01-08</td>\n",
       "      <td>New York, NY</td>\n",
       "      <td>Marketing</td>\n",
       "      <td>Y</td>\n",
       "    </tr>\n",
       "    <tr>\n",
       "      <th>15</th>\n",
       "      <td>173772</td>\n",
       "      <td>Derek Eaton</td>\n",
       "      <td>Derek</td>\n",
       "      <td>Eaton</td>\n",
       "      <td>derek.eaton@acme.com</td>\n",
       "      <td>11678</td>\n",
       "      <td>N</td>\n",
       "      <td>Accounting</td>\n",
       "      <td>2019-06-01</td>\n",
       "      <td>Beijing, China</td>\n",
       "      <td>Finance</td>\n",
       "      <td>N</td>\n",
       "    </tr>\n",
       "    <tr>\n",
       "      <th>16</th>\n",
       "      <td>173773</td>\n",
       "      <td>Karlie Hartman</td>\n",
       "      <td>Karlie</td>\n",
       "      <td>Hartman</td>\n",
       "      <td>karlie.hartman@acme.com</td>\n",
       "      <td>11900</td>\n",
       "      <td>N</td>\n",
       "      <td>Field</td>\n",
       "      <td>2003-03-05</td>\n",
       "      <td>Beijing, China</td>\n",
       "      <td>Sales</td>\n",
       "      <td>Y</td>\n",
       "    </tr>\n",
       "    <tr>\n",
       "      <th>17</th>\n",
       "      <td>173774</td>\n",
       "      <td>Killian Bryan</td>\n",
       "      <td>Killian</td>\n",
       "      <td>Bryan</td>\n",
       "      <td>killian.bryan@acme.com</td>\n",
       "      <td>11244</td>\n",
       "      <td>N</td>\n",
       "      <td>QA</td>\n",
       "      <td>2018-05-05</td>\n",
       "      <td>Tokyo, Japan</td>\n",
       "      <td>Production</td>\n",
       "      <td>N</td>\n",
       "    </tr>\n",
       "    <tr>\n",
       "      <th>18</th>\n",
       "      <td>173775</td>\n",
       "      <td>Guillermo Josph</td>\n",
       "      <td>Guillermo</td>\n",
       "      <td>Joseph</td>\n",
       "      <td>guillermo.joseph@acme.com</td>\n",
       "      <td>11322</td>\n",
       "      <td>N</td>\n",
       "      <td>Learning &amp; Development</td>\n",
       "      <td>2019-06-01</td>\n",
       "      <td>Toronto, Canada</td>\n",
       "      <td>HR</td>\n",
       "      <td>Y</td>\n",
       "    </tr>\n",
       "    <tr>\n",
       "      <th>19</th>\n",
       "      <td>173776</td>\n",
       "      <td>Hafiz Luna</td>\n",
       "      <td>Hafiz</td>\n",
       "      <td>Luna</td>\n",
       "      <td>hafiz.luna@acme.com</td>\n",
       "      <td>11544</td>\n",
       "      <td>N</td>\n",
       "      <td>Digital</td>\n",
       "      <td>2016-02-01</td>\n",
       "      <td>London, UK</td>\n",
       "      <td>Marketing</td>\n",
       "      <td>Y</td>\n",
       "    </tr>\n",
       "    <tr>\n",
       "      <th>20</th>\n",
       "      <td>173777</td>\n",
       "      <td>Kate Huffman</td>\n",
       "      <td>Kate</td>\n",
       "      <td>Huffman</td>\n",
       "      <td>kate.huffman@acme.com</td>\n",
       "      <td>16577</td>\n",
       "      <td>N</td>\n",
       "      <td>Accounting</td>\n",
       "      <td>2018-10-02</td>\n",
       "      <td>Buenos Aires, Argentina</td>\n",
       "      <td>Finance</td>\n",
       "      <td>Y</td>\n",
       "    </tr>\n",
       "    <tr>\n",
       "      <th>21</th>\n",
       "      <td>173778</td>\n",
       "      <td>Danielle West</td>\n",
       "      <td>Danielle</td>\n",
       "      <td>West</td>\n",
       "      <td>danielle.west@acme.com</td>\n",
       "      <td>18395</td>\n",
       "      <td>N</td>\n",
       "      <td>Field</td>\n",
       "      <td>2003-12-01</td>\n",
       "      <td>Los Angeles, CA</td>\n",
       "      <td>Sales</td>\n",
       "      <td>N</td>\n",
       "    </tr>\n",
       "    <tr>\n",
       "      <th>22</th>\n",
       "      <td>173779</td>\n",
       "      <td>Alex Pace</td>\n",
       "      <td>Alex</td>\n",
       "      <td>Pace</td>\n",
       "      <td>alex.pace@acme.com</td>\n",
       "      <td>19835</td>\n",
       "      <td>N</td>\n",
       "      <td>Supply Chain</td>\n",
       "      <td>2003-12-01</td>\n",
       "      <td>Los Angeles, CA</td>\n",
       "      <td>Production</td>\n",
       "      <td>N</td>\n",
       "    </tr>\n",
       "    <tr>\n",
       "      <th>23</th>\n",
       "      <td>173780</td>\n",
       "      <td>Jamie Carr</td>\n",
       "      <td>Jamie</td>\n",
       "      <td>Carr</td>\n",
       "      <td>jamie.carr@acme.com</td>\n",
       "      <td>12245</td>\n",
       "      <td>N</td>\n",
       "      <td>Talent Acquisition</td>\n",
       "      <td>2018-07-01</td>\n",
       "      <td>Toronto, Canada</td>\n",
       "      <td>HR</td>\n",
       "      <td>Y</td>\n",
       "    </tr>\n",
       "    <tr>\n",
       "      <th>24</th>\n",
       "      <td>173781</td>\n",
       "      <td>Natalya Lucero</td>\n",
       "      <td>Natalya</td>\n",
       "      <td>Lucero</td>\n",
       "      <td>natalya.lucero@acme.com</td>\n",
       "      <td>14556</td>\n",
       "      <td>N</td>\n",
       "      <td>Digital</td>\n",
       "      <td>2018-10-01</td>\n",
       "      <td>New York, NY</td>\n",
       "      <td>Marketing</td>\n",
       "      <td>Y</td>\n",
       "    </tr>\n",
       "  </tbody>\n",
       "</table>\n",
       "</div>"
      ],
      "text/plain": [
       "    UniqueID          FullName  FirstName  LastName  \\\n",
       "0     173657         Kim Blank        Kim     Blank   \n",
       "1     173658     Jeff Shilling       Jeff  Shilling   \n",
       "2     173659      Nancy Barnes      Nancy    Barnes   \n",
       "3     173660      Hank Edwards       Hank   Edwards   \n",
       "4     173661          Amy Cuth        Amy      Cuth   \n",
       "5     173662     Jaylan Walter     Jaylan    Walter   \n",
       "6     172663      Nora Harrell       Nora   Harrell   \n",
       "7     173664     Carlos McCann     Carlos    McCann   \n",
       "8     173665    Kailee Johnson     Kailee   Johnson   \n",
       "9     173666  Mathias Villegas    Mathias  Villegas   \n",
       "10    173667       Mylie Carey      Mylie     Carey   \n",
       "11    173668       Diego Duffy      Diego     Duffy   \n",
       "12    173669     Fatime Guerra     Fatima    Guerra   \n",
       "13    173770     Joseph Osborn     Joseph    Osborn   \n",
       "14    173771      Nora Sanchez       Nora   Sanchez   \n",
       "15    173772       Derek Eaton     Derek      Eaton   \n",
       "16    173773    Karlie Hartman     Karlie   Hartman   \n",
       "17    173774     Killian Bryan    Killian     Bryan   \n",
       "18    173775   Guillermo Josph  Guillermo    Joseph   \n",
       "19    173776        Hafiz Luna      Hafiz      Luna   \n",
       "20    173777      Kate Huffman       Kate   Huffman   \n",
       "21    173778     Danielle West   Danielle      West   \n",
       "22    173779         Alex Pace       Alex      Pace   \n",
       "23    173780        Jamie Carr      Jamie      Carr   \n",
       "24    173781    Natalya Lucero    Natalya    Lucero   \n",
       "\n",
       "                        Email  ManagerUniqueID Delete  \\\n",
       "0          kim.blank@Acme.com            11034      N   \n",
       "1      jeff.shilling@acme.com            11587      N   \n",
       "2       nancy.barnes@acme.com            10426      N   \n",
       "3       hank.edwards@acme.com            10033      N   \n",
       "4           amy.cuth@acme.com            14422      N   \n",
       "5      jaylan.walter@acme.com            12256      N   \n",
       "6       nora.harrell@acme.com            54956      N   \n",
       "7      carlos.mccann@acme.com            98122      N   \n",
       "8     kailee.johnson@acme.com            98118      N   \n",
       "9   mathias.villegas@acme.com            11053      N   \n",
       "10       mylie.carey@acme.com            11674      N   \n",
       "11       diego.duffy@acme.com            11987      N   \n",
       "12     fatima.guerra@acme.com            11524      N   \n",
       "13     joseph.osborn@acme.com            11999      N   \n",
       "14      nora.sanchez@acme.com            11888      N   \n",
       "15       derek.eaton@acme.com            11678      N   \n",
       "16    karlie.hartman@acme.com            11900      N   \n",
       "17     killian.bryan@acme.com            11244      N   \n",
       "18  guillermo.joseph@acme.com            11322      N   \n",
       "19        hafiz.luna@acme.com            11544      N   \n",
       "20      kate.huffman@acme.com            16577      N   \n",
       "21     danielle.west@acme.com            18395      N   \n",
       "22         alex.pace@acme.com            19835      N   \n",
       "23        jamie.carr@acme.com            12245      N   \n",
       "24    natalya.lucero@acme.com            14556      N   \n",
       "\n",
       "                  Department  Hire Date          Office Location  \\\n",
       "0                Procurement 2004-12-01           Beijing, China   \n",
       "1              Lead Sourcing 2010-01-08               London, UK   \n",
       "2               Supply Chain 2019-06-01             Tokyo, Japan   \n",
       "3         Talent Acquisition 2003-03-05        Sao Paulo, Brazil   \n",
       "4                    Digital 2018-05-05      Mexico City, Mexico   \n",
       "5                      FP &A 2019-06-01             New York, NY   \n",
       "6                      Field 2016-02-01          Toronto, Canada   \n",
       "7     Learning & Development 2018-10-02         Bangalore, India   \n",
       "8               Supply Chain 2003-12-01          Los Angeles, CA   \n",
       "9                    Digital 2003-12-01              Chicago, IL   \n",
       "10               Procurement 2018-07-01  Buenos Aires, Argentina   \n",
       "11                     Field 2018-10-01      Mexico City, Mexico   \n",
       "12                        QA 2015-04-02        Sao Paulo, Brazil   \n",
       "13        Talent Acquisition 2004-12-01             New York, NY   \n",
       "14  Partnerships & Alliances 2010-01-08             New York, NY   \n",
       "15                Accounting 2019-06-01           Beijing, China   \n",
       "16                     Field 2003-03-05           Beijing, China   \n",
       "17                        QA 2018-05-05             Tokyo, Japan   \n",
       "18    Learning & Development 2019-06-01          Toronto, Canada   \n",
       "19                   Digital 2016-02-01               London, UK   \n",
       "20                Accounting 2018-10-02  Buenos Aires, Argentina   \n",
       "21                     Field 2003-12-01          Los Angeles, CA   \n",
       "22              Supply Chain 2003-12-01          Los Angeles, CA   \n",
       "23        Talent Acquisition 2018-07-01          Toronto, Canada   \n",
       "24                   Digital 2018-10-01             New York, NY   \n",
       "\n",
       "   Business Unit People Manager  \n",
       "0        Finance              Y  \n",
       "1          Sales              Y  \n",
       "2     Production              N  \n",
       "3             HR              N  \n",
       "4      Marketing              Y  \n",
       "5        Finance              N  \n",
       "6          Sales              Y  \n",
       "7             HR              Y  \n",
       "8     Production              N  \n",
       "9      Marketing              N  \n",
       "10       Finance              N  \n",
       "11         Sales              N  \n",
       "12    Production              Y  \n",
       "13            HR              Y  \n",
       "14     Marketing              Y  \n",
       "15       Finance              N  \n",
       "16         Sales              Y  \n",
       "17    Production              N  \n",
       "18            HR              Y  \n",
       "19     Marketing              Y  \n",
       "20       Finance              Y  \n",
       "21         Sales              N  \n",
       "22    Production              N  \n",
       "23            HR              Y  \n",
       "24     Marketing              Y  "
      ]
     },
     "execution_count": 3,
     "metadata": {},
     "output_type": "execute_result"
    }
   ],
   "source": [
    "data"
   ]
  },
  {
   "cell_type": "markdown",
   "metadata": {},
   "source": [
    "## 3.Visualising Rules"
   ]
  },
  {
   "cell_type": "code",
   "execution_count": 4,
   "metadata": {},
   "outputs": [
    {
     "data": {
      "text/html": [
       "<div>\n",
       "<style scoped>\n",
       "    .dataframe tbody tr th:only-of-type {\n",
       "        vertical-align: middle;\n",
       "    }\n",
       "\n",
       "    .dataframe tbody tr th {\n",
       "        vertical-align: top;\n",
       "    }\n",
       "\n",
       "    .dataframe thead th {\n",
       "        text-align: right;\n",
       "    }\n",
       "</style>\n",
       "<table border=\"1\" class=\"dataframe\">\n",
       "  <thead>\n",
       "    <tr style=\"text-align: right;\">\n",
       "      <th></th>\n",
       "      <th>Last Updated</th>\n",
       "      <th>if</th>\n",
       "      <th>op 1</th>\n",
       "      <th>equals 1</th>\n",
       "      <th>and if 2</th>\n",
       "      <th>op 2</th>\n",
       "      <th>equals 2</th>\n",
       "      <th>Groups</th>\n",
       "      <th>Delete</th>\n",
       "    </tr>\n",
       "  </thead>\n",
       "  <tbody>\n",
       "    <tr>\n",
       "      <th>0</th>\n",
       "      <td>2020-05-12</td>\n",
       "      <td>Business Unit</td>\n",
       "      <td>=</td>\n",
       "      <td>Finance</td>\n",
       "      <td>Business Unit</td>\n",
       "      <td>=</td>\n",
       "      <td>Finance</td>\n",
       "      <td>Finance</td>\n",
       "      <td>N</td>\n",
       "    </tr>\n",
       "    <tr>\n",
       "      <th>1</th>\n",
       "      <td>2020-05-13</td>\n",
       "      <td>Business Unit</td>\n",
       "      <td>=</td>\n",
       "      <td>Sales</td>\n",
       "      <td>Business Unit</td>\n",
       "      <td>=</td>\n",
       "      <td>Sales</td>\n",
       "      <td>Sales</td>\n",
       "      <td>N</td>\n",
       "    </tr>\n",
       "    <tr>\n",
       "      <th>2</th>\n",
       "      <td>2020-05-14</td>\n",
       "      <td>Business Unit</td>\n",
       "      <td>=</td>\n",
       "      <td>Production</td>\n",
       "      <td>Business Unit</td>\n",
       "      <td>=</td>\n",
       "      <td>Production</td>\n",
       "      <td>Production</td>\n",
       "      <td>N</td>\n",
       "    </tr>\n",
       "    <tr>\n",
       "      <th>3</th>\n",
       "      <td>2020-05-15</td>\n",
       "      <td>Business Unit</td>\n",
       "      <td>=</td>\n",
       "      <td>HR</td>\n",
       "      <td>Business Unit</td>\n",
       "      <td>=</td>\n",
       "      <td>HR</td>\n",
       "      <td>HR</td>\n",
       "      <td>N</td>\n",
       "    </tr>\n",
       "    <tr>\n",
       "      <th>4</th>\n",
       "      <td>2020-05-16</td>\n",
       "      <td>Business Unit</td>\n",
       "      <td>=</td>\n",
       "      <td>Marketing</td>\n",
       "      <td>Business Unit</td>\n",
       "      <td>=</td>\n",
       "      <td>Marketing</td>\n",
       "      <td>Marketing</td>\n",
       "      <td>N</td>\n",
       "    </tr>\n",
       "    <tr>\n",
       "      <th>5</th>\n",
       "      <td>2020-05-17</td>\n",
       "      <td>Business Unit</td>\n",
       "      <td>=</td>\n",
       "      <td>Finance</td>\n",
       "      <td>Hire Date</td>\n",
       "      <td>&lt;=</td>\n",
       "      <td>2000-05-15 00:00:00</td>\n",
       "      <td>Marketing</td>\n",
       "      <td>N</td>\n",
       "    </tr>\n",
       "  </tbody>\n",
       "</table>\n",
       "</div>"
      ],
      "text/plain": [
       "  Last Updated             if op 1    equals 1       and if 2 op 2  \\\n",
       "0   2020-05-12  Business Unit    =     Finance  Business Unit    =   \n",
       "1   2020-05-13  Business Unit    =       Sales  Business Unit    =   \n",
       "2   2020-05-14  Business Unit    =  Production  Business Unit    =   \n",
       "3   2020-05-15  Business Unit    =          HR  Business Unit    =   \n",
       "4   2020-05-16  Business Unit    =   Marketing  Business Unit    =   \n",
       "5   2020-05-17  Business Unit    =     Finance      Hire Date   <=   \n",
       "\n",
       "              equals 2      Groups Delete  \n",
       "0              Finance     Finance      N  \n",
       "1                Sales       Sales      N  \n",
       "2           Production  Production      N  \n",
       "3                   HR          HR      N  \n",
       "4            Marketing   Marketing      N  \n",
       "5  2000-05-15 00:00:00   Marketing      N  "
      ]
     },
     "execution_count": 4,
     "metadata": {},
     "output_type": "execute_result"
    }
   ],
   "source": [
    "rules"
   ]
  },
  {
   "cell_type": "markdown",
   "metadata": {},
   "source": [
    "## 4.Getting unique Business Units Groups"
   ]
  },
  {
   "cell_type": "code",
   "execution_count": 5,
   "metadata": {},
   "outputs": [],
   "source": [
    "bu_unique = data[\"Business Unit\"].unique()"
   ]
  },
  {
   "cell_type": "code",
   "execution_count": 6,
   "metadata": {},
   "outputs": [
    {
     "data": {
      "text/plain": [
       "array(['Finance', 'Sales', 'Production', 'HR', 'Marketing'], dtype=object)"
      ]
     },
     "execution_count": 6,
     "metadata": {},
     "output_type": "execute_result"
    }
   ],
   "source": [
    "bu_unique"
   ]
  },
  {
   "cell_type": "markdown",
   "metadata": {},
   "source": [
    "## 5.Getting unique Region Groups"
   ]
  },
  {
   "cell_type": "code",
   "execution_count": 7,
   "metadata": {},
   "outputs": [],
   "source": [
    "locations_unique = data[\"Office Location\"].unique()"
   ]
  },
  {
   "cell_type": "code",
   "execution_count": 8,
   "metadata": {},
   "outputs": [],
   "source": [
    "locations_unique = list(locations_unique)"
   ]
  },
  {
   "cell_type": "code",
   "execution_count": 9,
   "metadata": {},
   "outputs": [],
   "source": [
    "region_unique = [\"APAC\",\"EMEA\",\"APAC\",\"LATAM\",\"NAMER\",\"NAMER\",\"NAMER\",\"APAC\",\"NAMER\",\"NAMER\",\"LATAM\"]"
   ]
  },
  {
   "cell_type": "code",
   "execution_count": 10,
   "metadata": {},
   "outputs": [],
   "source": [
    "regions = dict(zip(locations_unique,region_unique))\n",
    "    "
   ]
  },
  {
   "cell_type": "code",
   "execution_count": 11,
   "metadata": {},
   "outputs": [
    {
     "data": {
      "text/plain": [
       "{'Beijing, China': 'APAC',\n",
       " 'London, UK': 'EMEA',\n",
       " 'Tokyo, Japan': 'APAC',\n",
       " 'Sao Paulo, Brazil': 'LATAM',\n",
       " 'Mexico City, Mexico': 'NAMER',\n",
       " 'New York, NY': 'NAMER',\n",
       " 'Toronto, Canada': 'NAMER',\n",
       " 'Bangalore, India': 'APAC',\n",
       " 'Los Angeles, CA': 'NAMER',\n",
       " 'Chicago, IL': 'NAMER',\n",
       " 'Buenos Aires, Argentina': 'LATAM'}"
      ]
     },
     "execution_count": 11,
     "metadata": {},
     "output_type": "execute_result"
    }
   ],
   "source": [
    "regions\n"
   ]
  },
  {
   "cell_type": "code",
   "execution_count": 12,
   "metadata": {},
   "outputs": [],
   "source": [
    "if len(locations_unique) != len(region_unique):\n",
    "    print(\"Please, Update region_unique List, do not proceed before !!!!\")"
   ]
  },
  {
   "cell_type": "markdown",
   "metadata": {},
   "source": [
    "### 5.1Function to get Region  "
   ]
  },
  {
   "cell_type": "code",
   "execution_count": 13,
   "metadata": {},
   "outputs": [],
   "source": [
    "def get_region(location):\n",
    "    for key,value in regions.items():\n",
    "        if key == location:\n",
    "            return value\n"
   ]
  },
  {
   "cell_type": "code",
   "execution_count": 14,
   "metadata": {},
   "outputs": [],
   "source": [
    "regions_group = set(region_unique)"
   ]
  },
  {
   "cell_type": "markdown",
   "metadata": {},
   "source": [
    "## 6.Construction of User Groups file format"
   ]
  },
  {
   "cell_type": "markdown",
   "metadata": {},
   "source": [
    "### 6.1 Inserting Basic Data"
   ]
  },
  {
   "cell_type": "code",
   "execution_count": 15,
   "metadata": {},
   "outputs": [],
   "source": [
    "users_file = list(data.head())"
   ]
  },
  {
   "cell_type": "markdown",
   "metadata": {},
   "source": [
    "### 6.2 Inserting \"All Hands\" Group"
   ]
  },
  {
   "cell_type": "code",
   "execution_count": 16,
   "metadata": {},
   "outputs": [],
   "source": [
    "users_file.append(\"All Hands\")"
   ]
  },
  {
   "cell_type": "code",
   "execution_count": 17,
   "metadata": {},
   "outputs": [
    {
     "data": {
      "text/plain": [
       "['UniqueID',\n",
       " 'FullName',\n",
       " 'FirstName',\n",
       " 'LastName',\n",
       " 'Email',\n",
       " 'ManagerUniqueID',\n",
       " 'Delete',\n",
       " 'Department',\n",
       " 'Hire Date',\n",
       " 'Office Location',\n",
       " 'Business Unit',\n",
       " 'People Manager',\n",
       " 'All Hands']"
      ]
     },
     "execution_count": 17,
     "metadata": {},
     "output_type": "execute_result"
    }
   ],
   "source": [
    "users_file"
   ]
  },
  {
   "cell_type": "markdown",
   "metadata": {},
   "source": [
    "### 6.3 Insert Business Units Groups"
   ]
  },
  {
   "cell_type": "code",
   "execution_count": 18,
   "metadata": {},
   "outputs": [
    {
     "data": {
      "text/plain": [
       "['UniqueID',\n",
       " 'FullName',\n",
       " 'FirstName',\n",
       " 'LastName',\n",
       " 'Email',\n",
       " 'ManagerUniqueID',\n",
       " 'Delete',\n",
       " 'Department',\n",
       " 'Hire Date',\n",
       " 'Office Location',\n",
       " 'Business Unit',\n",
       " 'People Manager',\n",
       " 'All Hands',\n",
       " 'Finance',\n",
       " 'Sales',\n",
       " 'Production',\n",
       " 'HR',\n",
       " 'Marketing']"
      ]
     },
     "execution_count": 18,
     "metadata": {},
     "output_type": "execute_result"
    }
   ],
   "source": [
    "for bu in bu_unique:\n",
    "    users_file.append(bu)\n",
    "users_file"
   ]
  },
  {
   "cell_type": "markdown",
   "metadata": {},
   "source": [
    "### 6.4 Insert Region Groups"
   ]
  },
  {
   "cell_type": "code",
   "execution_count": 19,
   "metadata": {},
   "outputs": [
    {
     "data": {
      "text/plain": [
       "['UniqueID',\n",
       " 'FullName',\n",
       " 'FirstName',\n",
       " 'LastName',\n",
       " 'Email',\n",
       " 'ManagerUniqueID',\n",
       " 'Delete',\n",
       " 'Department',\n",
       " 'Hire Date',\n",
       " 'Office Location',\n",
       " 'Business Unit',\n",
       " 'People Manager',\n",
       " 'All Hands',\n",
       " 'Finance',\n",
       " 'Sales',\n",
       " 'Production',\n",
       " 'HR',\n",
       " 'Marketing',\n",
       " 'LATAM',\n",
       " 'EMEA',\n",
       " 'APAC',\n",
       " 'NAMER']"
      ]
     },
     "execution_count": 19,
     "metadata": {},
     "output_type": "execute_result"
    }
   ],
   "source": [
    "for region in regions_group:\n",
    "    users_file.append(region)\n",
    "    \n",
    "users_file"
   ]
  },
  {
   "cell_type": "markdown",
   "metadata": {},
   "source": [
    "### 7.Rules parser from Excel Business Rules Sheet"
   ]
  },
  {
   "cell_type": "code",
   "execution_count": 20,
   "metadata": {},
   "outputs": [
    {
     "data": {
      "text/plain": [
       "UniqueID                        173657\n",
       "FullName                     Kim Blank\n",
       "FirstName                          Kim\n",
       "LastName                         Blank\n",
       "Email               kim.blank@Acme.com\n",
       "ManagerUniqueID                  11034\n",
       "Delete                               N\n",
       "Department                 Procurement\n",
       "Hire Date          2004-12-01 00:00:00\n",
       "Office Location         Beijing, China\n",
       "Business Unit                  Finance\n",
       "People Manager                       Y\n",
       "Name: 0, dtype: object"
      ]
     },
     "execution_count": 20,
     "metadata": {},
     "output_type": "execute_result"
    }
   ],
   "source": [
    "sample = data.iloc[0]\n",
    "sample\n"
   ]
  },
  {
   "cell_type": "code",
   "execution_count": 21,
   "metadata": {},
   "outputs": [],
   "source": [
    "assertion1 = []\n",
    "assertion2 = []"
   ]
  },
  {
   "cell_type": "code",
   "execution_count": 22,
   "metadata": {},
   "outputs": [],
   "source": [
    "def assert_rules_1(data):\n",
    "    for if_s, opt_1, equals_1 in zip(rules['if'],rules['op 1'],rules['equals 1']): ## Assertion coverting from Excel\n",
    "        if opt_1 == \"=\":\n",
    "            if data[if_s] == equals_1:\n",
    "                assertion1.append(True)\n",
    "            else:\n",
    "                assertion1.append(False)\n",
    "        elif opt_1 == \">\":\n",
    "            if data[if_s] > equals_1:\n",
    "                assertion1.append(True)\n",
    "            else:\n",
    "                assertion1.append(False)\n",
    "        elif opt_1 == \"<\":\n",
    "            if data[if_s] < equals_1:\n",
    "                assertion1.append(True)\n",
    "            else:\n",
    "                assertion1.append(False)\n",
    "        elif opt_1 == \"<=\":\n",
    "            if data[if_s] <= equals_1:\n",
    "                assertion1.append(True)\n",
    "            else:\n",
    "                assertion1.append(False)\n",
    "        elif opt_1 == \">=\":\n",
    "            if data[if_s] >= equals_1:\n",
    "                assertion1.append(True)\n",
    "            else:\n",
    "                assertion1.append(False)\n",
    "                \n",
    "def assert_rules_2(data):\n",
    "    for if_s, opt_2, equals_2 in zip(rules['and if 2'],rules['op 2'],rules['equals 2']): ## Assertion coverting from Excel\n",
    "        if opt_2 == \"=\":\n",
    "            if data[if_s] == equals_2:\n",
    "                assertion2.append(True)\n",
    "            else:\n",
    "                assertion2.append(False)\n",
    "        elif opt_2 == \">\":\n",
    "            if data[if_s] > equals_2:\n",
    "                assertion2.append(True)\n",
    "            else:\n",
    "                assertion2.append(False)\n",
    "        elif opt_2 == \"<\":\n",
    "            if data[if_s] < equals_2:\n",
    "                assertion2.append(True)\n",
    "            else:\n",
    "                assertion2.append(False)\n",
    "        elif opt_2 == \"<=\":\n",
    "            if data[if_s] <= equals_2:\n",
    "                assertion2.append(True)\n",
    "            else:\n",
    "                assertion2.append(False)\n",
    "        elif opt_2 == \">=\":\n",
    "            if data[if_s] >= equals_2:\n",
    "                assertion2.append(True)\n",
    "            else:\n",
    "                assertion2.append(False)\n",
    "        else:\n",
    "            assertion2.append(True)\n",
    "            \n",
    "\n",
    "       \n"
   ]
  },
  {
   "cell_type": "code",
   "execution_count": 23,
   "metadata": {},
   "outputs": [],
   "source": [
    "assert_rules_1(sample)\n",
    "assert_rules_2(sample)"
   ]
  },
  {
   "cell_type": "code",
   "execution_count": 24,
   "metadata": {},
   "outputs": [
    {
     "data": {
      "text/plain": [
       "[True, False, False, False, False, True]"
      ]
     },
     "execution_count": 24,
     "metadata": {},
     "output_type": "execute_result"
    }
   ],
   "source": [
    "assertion1\n"
   ]
  },
  {
   "cell_type": "code",
   "execution_count": 25,
   "metadata": {},
   "outputs": [
    {
     "data": {
      "text/plain": [
       "[True, False, False, False, False, False]"
      ]
     },
     "execution_count": 25,
     "metadata": {},
     "output_type": "execute_result"
    }
   ],
   "source": [
    "assertion2"
   ]
  },
  {
   "cell_type": "code",
   "execution_count": 30,
   "metadata": {},
   "outputs": [
    {
     "data": {
      "text/plain": [
       "[True, False, False, False, False, False]"
      ]
     },
     "execution_count": 30,
     "metadata": {},
     "output_type": "execute_result"
    }
   ],
   "source": [
    "assertion1 and assertion2"
   ]
  },
  {
   "cell_type": "code",
   "execution_count": null,
   "metadata": {},
   "outputs": [],
   "source": [
    "userf"
   ]
  },
  {
   "cell_type": "code",
   "execution_count": null,
   "metadata": {},
   "outputs": [],
   "source": []
  }
 ],
 "metadata": {
  "kernelspec": {
   "display_name": "Python 3",
   "language": "python",
   "name": "python3"
  },
  "language_info": {
   "codemirror_mode": {
    "name": "ipython",
    "version": 3
   },
   "file_extension": ".py",
   "mimetype": "text/x-python",
   "name": "python",
   "nbconvert_exporter": "python",
   "pygments_lexer": "ipython3",
   "version": "3.7.6"
  }
 },
 "nbformat": 4,
 "nbformat_minor": 4
}
